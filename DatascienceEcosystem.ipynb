{
 "cells": [
  {
   "cell_type": "markdown",
   "id": "ea607a33-9aef-4748-91d9-c75300977721",
   "metadata": {},
   "source": [
    "# Data Science tools and Ecosystem\n"
   ]
  },
  {
   "cell_type": "markdown",
   "id": "1c56715b-637d-4a71-963a-97375050aeb1",
   "metadata": {},
   "source": [
    "\n",
    "\n",
    "In this notebook, Data Science Tools and Ecosystem are summarized.\n"
   ]
  },
  {
   "cell_type": "markdown",
   "id": "0c265f9e-9ca0-48d5-9a8b-5ddac8bcaa4c",
   "metadata": {},
   "source": [
    "\n",
    " Some of the popular languages that Data Scientists use are:\n",
    " 1. PYTHON\n",
    " 2. R\n",
    " 3. SQL"
   ]
  },
  {
   "cell_type": "markdown",
   "id": "fdfcee64-0878-473d-8429-f85c1ea3d8b0",
   "metadata": {},
   "source": [
    " Some of the commonly used libraries used by Data Scientists include:\n",
    "1. MATPLOTLIB\n",
    "2. PANDAS\n",
    "3. NUMPY"
   ]
  },
  {
   "cell_type": "markdown",
   "id": "bdfede2a-0e43-4e4b-8134-a87bde2023cd",
   "metadata": {},
   "source": [
    "Data Science Tools\n",
    "1. JUPYTER\n",
    "2. R STUDIO\n",
    "3. ANACONDA NAVIGATOR"
   ]
  },
  {
   "cell_type": "markdown",
   "id": "23f8493f-bf4f-4349-aa9d-57bf08538b51",
   "metadata": {},
   "source": [
    "\n",
    " Below are a few examples of evaluating arithmetic expressions in Python"
   ]
  },
  {
   "cell_type": "code",
   "execution_count": 5,
   "id": "020f7851-934a-4869-aa0d-f15a23f438e2",
   "metadata": {},
   "outputs": [
    {
     "data": {
      "text/plain": [
       "5"
      ]
     },
     "execution_count": 5,
     "metadata": {},
     "output_type": "execute_result"
    }
   ],
   "source": [
    " 3+2\n"
   ]
  },
  {
   "cell_type": "code",
   "execution_count": 6,
   "id": "933673aa-a9ca-45bb-a502-e9cf94fd97bb",
   "metadata": {},
   "outputs": [
    {
     "data": {
      "text/plain": [
       "17"
      ]
     },
     "execution_count": 6,
     "metadata": {},
     "output_type": "execute_result"
    }
   ],
   "source": [
    "#This a simple arithmetic expression to mutiply then add integers.\n",
    "(3*4)+5"
   ]
  },
  {
   "cell_type": "code",
   "execution_count": 7,
   "id": "fa4d2a69-904c-4404-b803-fc76002d56a2",
   "metadata": {},
   "outputs": [
    {
     "name": "stdout",
     "output_type": "stream",
     "text": [
      "3.3333333333333335\n"
     ]
    }
   ],
   "source": [
    "#This will convert 200 minutes to hours by diving by 60.\n",
    "x=200/60\n",
    "print(x)"
   ]
  },
  {
   "cell_type": "markdown",
   "id": "8b052356-f6c1-4937-bdcb-a6cf3a3ee302",
   "metadata": {},
   "source": [
    "*Objectives:*\n",
    " List popular languages for Data Science.\n",
    ". python\n",
    ". R\n",
    ". SQL"
   ]
  },
  {
   "cell_type": "markdown",
   "id": "18dd6df2-b934-4c22-87d6-ad583c778226",
   "metadata": {},
   "source": [
    "# AUTHOR:\n",
    " KEERTHAN"
   ]
  },
  {
   "cell_type": "code",
   "execution_count": null,
   "id": "60aec31f-6318-4379-8f1b-e5775e6be579",
   "metadata": {},
   "outputs": [],
   "source": []
  }
 ],
 "metadata": {
  "kernelspec": {
   "display_name": "Python 3 (ipykernel)",
   "language": "python",
   "name": "python3"
  },
  "language_info": {
   "codemirror_mode": {
    "name": "ipython",
    "version": 3
   },
   "file_extension": ".py",
   "mimetype": "text/x-python",
   "name": "python",
   "nbconvert_exporter": "python",
   "pygments_lexer": "ipython3",
   "version": "3.11.7"
  }
 },
 "nbformat": 4,
 "nbformat_minor": 5
}
